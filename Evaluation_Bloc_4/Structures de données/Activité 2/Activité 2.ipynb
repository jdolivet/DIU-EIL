{
 "cells": [
  {
   "cell_type": "markdown",
   "metadata": {},
   "source": [
    "# Notation Polonaise Inverse : Activité 2"
   ]
  },
  {
   "cell_type": "markdown",
   "metadata": {},
   "source": [
    "## Construction d'un simulateur de calculatrice"
   ]
  },
  {
   "cell_type": "markdown",
   "metadata": {},
   "source": [
    "### Hardware de la calculatrice"
   ]
  },
  {
   "cell_type": "markdown",
   "metadata": {},
   "source": [
    "On va utiliser la classe pile vue précédemment pour stocker en **mémoire** les entiers en entrée.  \n",
    "On va définir les quatre opérations élémentaires effectuables par **l'unité arithmétique** de la calculatrice lorsque l'entrée est un opérateur.\n"
   ]
  },
  {
   "cell_type": "markdown",
   "metadata": {},
   "source": [
    "* Mémoire"
   ]
  },
  {
   "cell_type": "code",
   "execution_count": 1,
   "metadata": {},
   "outputs": [],
   "source": [
    "# Comme vu lors de l'activité précédente, chaque entier reçu en entrée sera stocké au sommet de la pile\n",
    "# La méthode repr de la classe a été modifiée afin d'afficher l'intégralité de la pile lorsqu'elle est appelée\n",
    "from classePile import *"
   ]
  },
  {
   "cell_type": "markdown",
   "metadata": {},
   "source": [
    "* Unité arithmétique"
   ]
  },
  {
   "cell_type": "code",
   "execution_count": 2,
   "metadata": {},
   "outputs": [],
   "source": [
    "# Lorsqu'un opérateur est reçu en entrée c'est l'unité arithmétique qui est sollicitée pour effectuer une opération\n",
    "# On définit les 4 opérations arithmétiques possibles\n",
    "def addition(a, b):\n",
    "    return a + b\n",
    "def soustraction(a, b):\n",
    "    return a - b\n",
    "def multiplication(a, b):\n",
    "    return a * b\n",
    "def division(a, b):\n",
    "    return a / b"
   ]
  },
  {
   "cell_type": "markdown",
   "metadata": {},
   "source": [
    "### Software de la calculatrice"
   ]
  },
  {
   "cell_type": "markdown",
   "metadata": {},
   "source": [
    "#### Programme Python"
   ]
  },
  {
   "cell_type": "markdown",
   "metadata": {},
   "source": [
    "* Instruction élève : Programmez la calculatrice NPI en langage Python, à partir de début de programme proposé."
   ]
  },
  {
   "cell_type": "code",
   "execution_count": null,
   "metadata": {},
   "outputs": [],
   "source": [
    "# Liens entre instructions et hardware, sous forme de dictionnaire\n",
    "# Pour associer chaque opérateur à la fonction de l'unité arithmétique correspondante\n",
    "instructions = {'*' : multiplication, '+' : addition, '/' : division, '-': soustraction}\n",
    "\n",
    "def calcul():\n",
    "    \n",
    "    print('Calculatrice NPI simplifiée')\n",
    "    print('Entrer un nombre entier ou un operateur')\n",
    "    print('Pour quitter le programme une fois la calcul terminé : q')\n",
    "    \"\"\"Procédure permettant d'effectuer un calcul en NPI \"\"\"\n",
    "    \n",
    "    # On initialise les 3 variables servant à effectuer un calcul\n",
    "    r1, r2, r3 = '', '', ''\n",
    "    \n",
    "    # On initialise la variable entree (entier ou opérateur)\n",
    "    entree = ''\n",
    "    \n",
    "    # On crée une pile de calcul vide\n",
    "    pileCalcul = Pile()\n",
    "    \n",
    "    # On effectue les instrucions suivantes en boucle jusqu'à ce que la condition de sortie soit vérifiée\n",
    "    while entree != 'q':\n",
    "        \n",
    "        # On rentre des nombres entiers, ou opérateurs. 'q' pour arrêter\n",
    "        entree = input('Instruction calculatrice : ')"
   ]
  },
  {
   "cell_type": "markdown",
   "metadata": {},
   "source": [
    "* Solution proposée"
   ]
  },
  {
   "cell_type": "code",
   "execution_count": 3,
   "metadata": {},
   "outputs": [],
   "source": [
    "# Liens entre instructions et hardware, sous forme de dictionnaire\n",
    "# Pour associer chaque opérateur à la fonction de l'unité arithmétique correspondante\n",
    "instructions = {'*' : multiplication, '+' : addition, '/' : division, '-': soustraction}\n",
    "\n",
    "def calcul():\n",
    "    \n",
    "    print('Calculatrice NPI simplifiée')\n",
    "    print('Entrer un nombre entier ou un operateur')\n",
    "    print('Pour quitter le programme une fois la calcul terminé : q')\n",
    "    \"\"\"Procédure permettant d'effectuer un calcul en NPI \"\"\"\n",
    "    \n",
    "    # On initialise les 3 variables servant à effectuer un calcul\n",
    "    r1, r2, r3 = '', '', ''\n",
    "    \n",
    "    # On initialise la variable entree (entier ou opérateur)\n",
    "    entree = ''\n",
    "    \n",
    "    # On crée une pile de calcul vide\n",
    "    pileCalcul = Pile()\n",
    "    \n",
    "    # On effectue les instrucions suivantes en boucle jusqu'à ce que la condition de sortie soit vérifiée\n",
    "    while entree != 'q':\n",
    "        \n",
    "        # On rentre des nombres entiers, ou opérateurs. 'q' pour arrêter\n",
    "        entree = input('Instruction calculatrice : ')\n",
    "                      \n",
    "        # Si l'entrée est reconnue comme un des quatre opérateurs, on évalue l'opération correspondante\n",
    "        if entree in instructions :\n",
    "            r2 = pileCalcul.depiler()\n",
    "            r1 = pileCalcul.depiler()\n",
    "            r3 = instructions[entree](r1, r2)\n",
    "            \n",
    "            # On empile le résultat\n",
    "            pileCalcul.empiler(r3)\n",
    "            \n",
    "            # On affiche l'état de la pile\n",
    "            print('Etat de la pile :', pileCalcul)\n",
    "            \n",
    "        # Si l'entrée est la lettre 'q', on l'empile\n",
    "        elif entree == 'q' :\n",
    "            pileCalcul.empiler(entree)\n",
    "                        \n",
    "        # Si l'entree est un nombre, on l'empile\n",
    "        else :\n",
    "            entree = int(entree)\n",
    "            pileCalcul.empiler(entree)\n",
    "            \n",
    "            # On affiche l'état de la pile\n",
    "            print('Etat de la pile :', pileCalcul)"
   ]
  },
  {
   "cell_type": "markdown",
   "metadata": {},
   "source": [
    "### Application\n",
    "Tester la calculatrice sur des expressions données en NPI"
   ]
  },
  {
   "cell_type": "code",
   "execution_count": null,
   "metadata": {},
   "outputs": [],
   "source": [
    "# La calculatrice fonctionne dorenavant\n",
    "# Par exemple : 6 9 7 + * 7 14 - +\n",
    "# Le résultat est 89\n",
    "calcul()"
   ]
  },
  {
   "cell_type": "markdown",
   "metadata": {},
   "source": [
    "----\n",
    "Ressource éducative libre distribuée sous :\n",
    "\n",
    "[Licence Creative Commons Attribution - Pas d’Utilisation Commerciale - Partage dans les Mêmes Conditions 4.0 International](http://creativecommons.org/licenses/by-nc-sa/4.0/)\n",
    "\n",
    "![Licence Creative Commons](https://i.creativecommons.org/l/by-nc-sa/4.0/88x31.png)"
   ]
  }
 ],
 "metadata": {
  "kernelspec": {
   "display_name": "Python 3",
   "language": "python",
   "name": "python3"
  },
  "language_info": {
   "codemirror_mode": {
    "name": "ipython",
    "version": 3
   },
   "file_extension": ".py",
   "mimetype": "text/x-python",
   "name": "python",
   "nbconvert_exporter": "python",
   "pygments_lexer": "ipython3",
   "version": "3.8.5"
  }
 },
 "nbformat": 4,
 "nbformat_minor": 4
}
