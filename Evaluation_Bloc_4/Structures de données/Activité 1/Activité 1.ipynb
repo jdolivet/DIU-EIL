{
 "cells": [
  {
   "cell_type": "markdown",
   "metadata": {},
   "source": [
    "# Notation Polonaise Inverse : Activité 1"
   ]
  },
  {
   "cell_type": "markdown",
   "metadata": {},
   "source": [
    "La notation polonaise inverse (NPI) ou (RPN pour *Reverse Polish Notation* en anglais), connue également sous le nom de __notation post-fixée__, dérive de la notation polonaise présentée par le mathématicien polonais Jan Łukasiewicz en 1924. La __NPI__ est quant à elle proposée par le philosophe et informaticien australien Charles Leonard Hamblin en 1957."
   ]
  },
  {
   "cell_type": "markdown",
   "metadata": {},
   "source": [
    "| Jan Łukasiewicz | Charles Leonard Hamblin |\n",
    "| --------------- | ----------------------- |\n",
    "|<img width=\"300\" src=\"Images/Jan_Łukasiewicz.jpg\" />|<img width=\"300\" src=\"Images/charles_hamblin.jpg\" />|"
   ]
  },
  {
   "cell_type": "markdown",
   "metadata": {},
   "source": [
    "Cette notation permet d'exprimer sans ambiguïté un calcul algébrique __sans avoir besoin d'utiliser de parenthèses__. La notation polonaise de Łukasiewicz écrivait les opérateurs avant les opérandes. La notation polonaise inverse écrit les opérandes avant les opérateurs."
   ]
  },
  {
   "cell_type": "markdown",
   "metadata": {},
   "source": [
    "## Comment ça fonctionne\n",
    "\n",
    "Les calculatrices NPI fonctionnent en utilisant une structure de données particulière. Chaque opérande entré est stocké en mémoire. Chaque fois qu'un calcul est effectué, le résultat est lui aussi stocké en mémoire.\n",
    "\n",
    "On veut par exemple effectuer le calcul suivant en NPI : 3 5 $+$ 4 $\\times$ .\n",
    "\n",
    "On entre les nombres 3 et 5. On les additionne, puis on entre le nombre 4 et on multiplie. Ce calcul correspond à l'expression algébrique $(3 + 5) \\times 4$.\n",
    "\n",
    "<img width=\"600\" src=\"Images/Pile_RPN_3_5_+_4_x.jpg\" />\n",
    "\n",
    "Remarque : le même résultat pour être obtenu en choisissant le calcul suivant : 4 3 5 $+$ $\\times$.\n",
    "\n",
    "Avec ce manière d'effectuer des calculs, nul besoin de parenthèses ou même du symbole $=$.\n",
    "\n",
    "Quelles est selon vous la structure de données la plus adaptée à cette application ?"
   ]
  },
  {
   "cell_type": "markdown",
   "metadata": {},
   "source": [
    "## Les avantages\n",
    "\n",
    "* L'écriture est raccourcie\n",
    "* Un résultat intermédiaire peut être facilement réutilisé, en le recopiant dans la pile\n",
    "* Avec un peu d'habitude, l'utilisateur effectue ses calculs beaucoup plus rapidement en NPI qu'en notation normale."
   ]
  },
  {
   "cell_type": "markdown",
   "metadata": {},
   "source": [
    "## Les inconvénients"
   ]
  },
  {
   "cell_type": "markdown",
   "metadata": {},
   "source": [
    "* Les opérateurs ne séparent pas les opérandes. Donc il faut trouver un séparateur (en général un espace). Sur les calculatrices, deux opérandes consécutifs sont en général séparés par la pression de la touche `ENTER`.\n",
    "* Il y a une certaine difficulté à réfléchir sur l'ordre des opérations à faire quand on n'en a pas l'habitude. Mieux vaut bien connaître l'ordre de priorité des opérations."
   ]
  },
  {
   "cell_type": "markdown",
   "metadata": {},
   "source": [
    "## Quelques utilisations de la NPI\n",
    "\n",
    "* Le langage de programmation Forth\n",
    "* Les calculatrices scientifiques `HP` (*Hewlett Packard*)\n",
    "* Le langage Postscript de description de pages (notamment pour les imprimantes laser)\n",
    "* Le tableur d'Unix\n",
    "* La description de fonctions numériques dans le langage LaTeX\n",
    "* Les vols spatiaux, où la NPI présente un gain de temps non négligeable ainsi qu'un risque moindre d'erreur\n",
    "* La plupart des consoles d'éclairage professionnelles (jeux d'orgues numériques), destinées à la programmation d'effets lumineux"
   ]
  },
  {
   "cell_type": "markdown",
   "metadata": {},
   "source": [
    "## Exercice 1\n",
    "\n",
    "Tranformer les expressions suivantes en notation NPI\n",
    "\n",
    "* $7\\times(42-20)$\n",
    "* $5-\\dfrac{20-8}{3}$\n",
    "* $\\dfrac{\\sqrt{20-4}}{2+\\sqrt{32+\\sqrt{16}}}$"
   ]
  },
  {
   "cell_type": "markdown",
   "metadata": {},
   "source": [
    "## Exercice 2\n",
    "\n",
    "Évaluer les expressions NPI précédentes en utilisant une pile (voir le document prévu à cet effet)."
   ]
  },
  {
   "cell_type": "markdown",
   "metadata": {},
   "source": [
    "## Exercice 3\n",
    "\n",
    "Trouver les expressions algébriques auxquelles correspondent les expressions NPI suivantes :\n",
    "\n",
    "* 20 7 3 $+$ $-$\n",
    "* 3 5 7 $+$ 4 $\\div$ $\\times$\n",
    "* 5 3 2 1 $+$ $\\times$ 4 $-$ $\\times$ "
   ]
  },
  {
   "cell_type": "markdown",
   "metadata": {},
   "source": [
    "----\n",
    "Ressource éducative libre distribuée sous :\n",
    "\n",
    "[Licence Creative Commons Attribution - Pas d’Utilisation Commerciale - Partage dans les Mêmes Conditions 4.0 International](http://creativecommons.org/licenses/by-nc-sa/4.0/)\n",
    "\n",
    "![Licence Creative Commons](https://i.creativecommons.org/l/by-nc-sa/4.0/88x31.png)"
   ]
  }
 ],
 "metadata": {
  "kernelspec": {
   "display_name": "Python 3",
   "language": "python",
   "name": "python3"
  },
  "language_info": {
   "codemirror_mode": {
    "name": "ipython",
    "version": 3
   },
   "file_extension": ".py",
   "mimetype": "text/x-python",
   "name": "python",
   "nbconvert_exporter": "python",
   "pygments_lexer": "ipython3",
   "version": "3.8.5"
  }
 },
 "nbformat": 4,
 "nbformat_minor": 4
}
