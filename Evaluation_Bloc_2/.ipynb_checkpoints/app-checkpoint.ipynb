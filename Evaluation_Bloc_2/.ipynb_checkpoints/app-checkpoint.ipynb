{
 "cells": [
  {
   "cell_type": "code",
   "execution_count": 43,
   "metadata": {},
   "outputs": [],
   "source": [
    "import random"
   ]
  },
  {
   "cell_type": "markdown",
   "metadata": {},
   "source": [
    "### Recherche"
   ]
  },
  {
   "cell_type": "code",
   "execution_count": 52,
   "metadata": {},
   "outputs": [],
   "source": [
    "def recherche(cartes, score=0):\n",
    "    if len(cartes) == 0:\n",
    "        return score\n",
    "    elif len(cartes) == 1:\n",
    "        return (score + cartes[0])\n",
    "    else:\n",
    "        # je choisis la carte de gauche\n",
    "        if cartes[1] > cartes[-1]:\n",
    "            # la carte de gauche est choisie par l'adversaire\n",
    "            g = recherche(cartes[2:], score + cartes[0] - cartes[1])\n",
    "        else:\n",
    "            # la carte de droite est choisie par l'adversaire\n",
    "            g = recherche(cartes[1:-1], score + cartes[0] - cartes[-1])\n",
    "        # je choisis la carte de droite\n",
    "        if cartes[0] > cartes[-2]:\n",
    "            d = recherche(cartes[1:-1], score + cartes[-1] - cartes[0])\n",
    "        else:\n",
    "            d = recherche(cartes[0:-2], score + cartes[-1] - cartes[-2])\n",
    "        return(max(g, d))"
   ]
  },
  {
   "cell_type": "code",
   "execution_count": 53,
   "metadata": {},
   "outputs": [
    {
     "name": "stdout",
     "output_type": "stream",
     "text": [
      "[14, 7, 13, 7, 1, 5, 9, 8, 7, 13, 14, 5] 13\n"
     ]
    }
   ],
   "source": [
    "N = 12\n",
    "random.seed(0)\n",
    "cartes = [random.randint(1,14) for x in range(N)]\n",
    "print(cartes, recherche(cartes, 0))"
   ]
  },
  {
   "cell_type": "markdown",
   "metadata": {},
   "source": [
    "### Recherche et détermination du chemin"
   ]
  },
  {
   "cell_type": "code",
   "execution_count": 54,
   "metadata": {},
   "outputs": [],
   "source": [
    "def recherche_chemin(cartes, score=0, chemin=\"\"):\n",
    "    if len(cartes) == 0:\n",
    "        return (score, chemin)\n",
    "    elif len(cartes) == 1:\n",
    "        return (score + cartes[0], chemin)\n",
    "    else:\n",
    "        if cartes[1] > cartes[-1]:\n",
    "            g =  recherche_chemin(cartes[2:], score + cartes[0] - cartes[1], 'g' + chemin)\n",
    "        else:\n",
    "            g =  recherche_chemin(cartes[1:-1], score + cartes[0] - cartes[-1], 'g' + chemin )\n",
    "        if cartes[0] > cartes[-2]:\n",
    "            d = recherche_chemin(cartes[1:-1], score + cartes[-1] - cartes[0], 'd'+ chemin )\n",
    "        else:\n",
    "            d =  recherche_chemin(cartes[0:-2], score + cartes[-1] - cartes[-2],'d'+ chemin )\n",
    "        return(max(g, d))"
   ]
  },
  {
   "cell_type": "code",
   "execution_count": 55,
   "metadata": {},
   "outputs": [
    {
     "name": "stdout",
     "output_type": "stream",
     "text": [
      "[14, 7, 13, 7, 1, 5, 9, 8, 7, 13, 14, 5] (13, 'dddggg')\n"
     ]
    }
   ],
   "source": [
    "random.seed(0)\n",
    "N = 12\n",
    "cartes = [random.randint(1,14) for x in range(N)]\n",
    "print(cartes, recherche_chemin(cartes, 0))"
   ]
  },
  {
   "cell_type": "markdown",
   "metadata": {},
   "source": [
    "### Recherche avec memoization"
   ]
  },
  {
   "cell_type": "code",
   "execution_count": 56,
   "metadata": {},
   "outputs": [],
   "source": [
    "def recherche_memo(cartes, score=0, cache={}):\n",
    "    if cartes in cache.keys():\n",
    "        return score + cache[cartes]\n",
    "    elif len(cartes) == 0:\n",
    "        return score\n",
    "    elif len(cartes) == 1:\n",
    "        return score + cartes[0]\n",
    "    else:\n",
    "        if cartes[1] > cartes[-1]:\n",
    "            g = recherche_memo(cartes[2:], score + cartes[0] - cartes[1], cache)\n",
    "        else:\n",
    "            g = recherche_memo(cartes[1:-1], score + cartes[0] - cartes[-1], cache)\n",
    "        if cartes[0] > cartes[-2]:\n",
    "            d = recherche_memo(cartes[1:-1], score + cartes[-1] - cartes[0], cache)\n",
    "        else:\n",
    "            d = recherche_memo(cartes[0:-2], score + cartes[-1] - cartes[-2], cache)\n",
    "        cache[cartes] = max(g,d) - score\n",
    "        return(max(g, d))"
   ]
  },
  {
   "cell_type": "code",
   "execution_count": null,
   "metadata": {},
   "outputs": [],
   "source": [
    "random.seed(0)\n",
    "N = 5000\n",
    "cartes = tuple([random.randrange(1,15) for x in range(N)])\n",
    "print(recherche_memo(cartes))"
   ]
  },
  {
   "cell_type": "code",
   "execution_count": 50,
   "metadata": {},
   "outputs": [
    {
     "name": "stdout",
     "output_type": "stream",
     "text": [
      "13 13 13\n",
      "16 16 16\n",
      "14 14 14\n",
      "18 18 18\n",
      "21 21 21\n",
      "8 8 8\n",
      "6 6 6\n",
      "19 19 19\n",
      "6 6 6\n",
      "5 5 5\n",
      "11 11 11\n",
      "4 4 4\n",
      "20 20 20\n",
      "18 18 18\n",
      "11 11 11\n",
      "28 28 28\n",
      "10 10 10\n",
      "6 6 6\n",
      "17 17 17\n",
      "14 14 14\n"
     ]
    }
   ],
   "source": [
    "#comparaison\n",
    "N = 12\n",
    "for i in range(20):\n",
    "    cartes = tuple([random.randrange(1,15) for x in range(N)])\n",
    "    print(recherche(cartes),\n",
    "          recherche_chemin(cartes)[0],\n",
    "          recherche_memo(cartes))"
   ]
  },
  {
   "cell_type": "code",
   "execution_count": null,
   "metadata": {},
   "outputs": [],
   "source": [
    "%timeit\n"
   ]
  },
  {
   "cell_type": "code",
   "execution_count": null,
   "metadata": {},
   "outputs": [],
   "source": []
  },
  {
   "cell_type": "code",
   "execution_count": null,
   "metadata": {},
   "outputs": [],
   "source": []
  },
  {
   "cell_type": "code",
   "execution_count": null,
   "metadata": {},
   "outputs": [],
   "source": []
  }
 ],
 "metadata": {
  "kernelspec": {
   "display_name": "Python 3",
   "language": "python",
   "name": "python3"
  },
  "language_info": {
   "codemirror_mode": {
    "name": "ipython",
    "version": 3
   },
   "file_extension": ".py",
   "mimetype": "text/x-python",
   "name": "python",
   "nbconvert_exporter": "python",
   "pygments_lexer": "ipython3",
   "version": "3.6.8"
  }
 },
 "nbformat": 4,
 "nbformat_minor": 4
}
