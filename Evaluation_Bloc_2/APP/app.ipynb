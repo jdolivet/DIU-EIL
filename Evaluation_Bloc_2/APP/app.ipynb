{
 "cells": [
  {
   "cell_type": "code",
   "execution_count": null,
   "metadata": {},
   "outputs": [],
   "source": [
    "import random"
   ]
  },
  {
   "cell_type": "markdown",
   "metadata": {},
   "source": [
    "### Recherche"
   ]
  },
  {
   "cell_type": "code",
   "execution_count": null,
   "metadata": {},
   "outputs": [],
   "source": [
    "def recherche(cartes):\n",
    "    if len(cartes) == 0: # il ne reste plus de cartes\n",
    "        return 0\n",
    "    elif len(cartes) == 1: # il reste une carte\n",
    "        return cartes[0]\n",
    "    else: \n",
    "        # le joueur choisit la carte de gauche\n",
    "        if cartes[1] > cartes[-1]:\n",
    "            # la carte de gauche est la plus grande et est choisie par l'adversaire\n",
    "            g = cartes[0] - cartes[1] + recherche(cartes[2:])\n",
    "        else:\n",
    "            # la carte de droite est choisie par l'adversaire\n",
    "            g = cartes[0] - cartes[-1] + recherche(cartes[1:-1] )\n",
    "        # le joueur choisit la carte de droite\n",
    "        if cartes[0] > cartes[-2]:\n",
    "            d = cartes[-1] - cartes[0] + recherche(cartes[1:-1])\n",
    "        else:\n",
    "            d = cartes[-1] - cartes[-2] + recherche(cartes[0:-2])\n",
    "        return(max(g, d))"
   ]
  },
  {
   "cell_type": "code",
   "execution_count": null,
   "metadata": {},
   "outputs": [],
   "source": [
    "N = 16\n",
    "random.seed(0)\n",
    "cartes = [random.randint(2, 14) for x in range(N)]\n",
    "print(cartes, recherche(cartes))"
   ]
  },
  {
   "cell_type": "markdown",
   "metadata": {},
   "source": [
    "### Recherche avec accès au score intermédiaire"
   ]
  },
  {
   "cell_type": "code",
   "execution_count": null,
   "metadata": {},
   "outputs": [],
   "source": [
    "def recherche_score(cartes, score=0):\n",
    "    if len(cartes) == 0: # il ne reste plus de cartes\n",
    "        return score\n",
    "    elif len(cartes) == 1: # il reste une carte\n",
    "        return (score + cartes[0])\n",
    "    else: \n",
    "        if cartes[1] > cartes[-1]:\n",
    "            g = recherche_score(cartes[2:], score + cartes[0] - cartes[1])\n",
    "        else:\n",
    "            g = recherche_score(cartes[1:-1], score + cartes[0] - cartes[-1])\n",
    "        if cartes[0] > cartes[-2]:\n",
    "            d = recherche_score(cartes[1:-1], score + cartes[-1] - cartes[0])\n",
    "        else:\n",
    "            d = recherche_score(cartes[0:-2], score + cartes[-1] - cartes[-2])\n",
    "        return(max(g, d))"
   ]
  },
  {
   "cell_type": "code",
   "execution_count": null,
   "metadata": {},
   "outputs": [],
   "source": [
    "N = 16\n",
    "random.seed(0)\n",
    "cartes = [random.randint(2, 14) for x in range(N)]\n",
    "print(cartes, recherche_score(cartes))"
   ]
  },
  {
   "cell_type": "markdown",
   "metadata": {},
   "source": [
    "### Recherche et détermination du chemin"
   ]
  },
  {
   "cell_type": "code",
   "execution_count": null,
   "metadata": {},
   "outputs": [],
   "source": [
    "def recherche_chemin(cartes, score=0, chemin=\"\"):\n",
    "    if len(cartes) == 0:\n",
    "        return (score, chemin)\n",
    "    elif len(cartes) == 1:\n",
    "        return (score + cartes[0], chemin)\n",
    "    else:\n",
    "        if cartes[1] > cartes[-1]:\n",
    "            g =  recherche_chemin(cartes[2:], score + cartes[0] - cartes[1], 'g' + chemin)\n",
    "        else:\n",
    "            g =  recherche_chemin(cartes[1:-1], score + cartes[0] - cartes[-1], 'g' + chemin )\n",
    "        if cartes[0] > cartes[-2]:\n",
    "            d = recherche_chemin(cartes[1:-1], score + cartes[-1] - cartes[0], 'd'+ chemin )\n",
    "        else:\n",
    "            d =  recherche_chemin(cartes[0:-2], score + cartes[-1] - cartes[-2],'d'+ chemin )\n",
    "        return(max(g, d))"
   ]
  },
  {
   "cell_type": "code",
   "execution_count": null,
   "metadata": {},
   "outputs": [],
   "source": [
    "random.seed(0)\n",
    "N = 16\n",
    "cartes = [random.randint(2,14) for x in range(N)]\n",
    "print(cartes, recherche_chemin(cartes))"
   ]
  },
  {
   "cell_type": "markdown",
   "metadata": {},
   "source": [
    "### Recherche avec memoïzation"
   ]
  },
  {
   "cell_type": "code",
   "execution_count": null,
   "metadata": {},
   "outputs": [],
   "source": [
    "def recherche_memo(cartes, cache={}):\n",
    "    if cartes in cache.keys(): # appel du cache\n",
    "        return cache[cartes]\n",
    "    elif len(cartes) == 0:\n",
    "        return 0\n",
    "    elif len(cartes) == 1:\n",
    "        return cartes[0]\n",
    "    else:\n",
    "        if cartes[1] > cartes[-1]:\n",
    "            g = cartes[0] - cartes[1] + recherche_memo(cartes[2:], cache)\n",
    "        else:\n",
    "            g = cartes[0] - cartes[-1] + recherche_memo(cartes[1:-1], cache)\n",
    "        if cartes[0] > cartes[-2]:\n",
    "            d = cartes[-1] - cartes[0] + recherche_memo(cartes[1:-1], cache)\n",
    "        else:\n",
    "            d = cartes[-1] - cartes[-2] + recherche_memo(cartes[0:-2], cache)\n",
    "        cache[cartes] = max(g,d) # mise en cache\n",
    "        return(max(g, d))"
   ]
  },
  {
   "cell_type": "code",
   "execution_count": null,
   "metadata": {},
   "outputs": [],
   "source": [
    "random.seed(0)\n",
    "N = 16\n",
    "cartes = tuple([random.randint(2,14) for x in range(N)])\n",
    "print(cartes, recherche_memo(cartes))"
   ]
  },
  {
   "cell_type": "code",
   "execution_count": null,
   "metadata": {},
   "outputs": [],
   "source": [
    "recherche_memo((14,7,13,7,1,5,9,8,7,13))"
   ]
  },
  {
   "cell_type": "code",
   "execution_count": null,
   "metadata": {},
   "outputs": [],
   "source": []
  }
 ],
 "metadata": {
  "kernelspec": {
   "display_name": "Python 3",
   "language": "python",
   "name": "python3"
  },
  "language_info": {
   "codemirror_mode": {
    "name": "ipython",
    "version": 3
   },
   "file_extension": ".py",
   "mimetype": "text/x-python",
   "name": "python",
   "nbconvert_exporter": "python",
   "pygments_lexer": "ipython3",
   "version": "3.6.8"
  }
 },
 "nbformat": 4,
 "nbformat_minor": 4
}
