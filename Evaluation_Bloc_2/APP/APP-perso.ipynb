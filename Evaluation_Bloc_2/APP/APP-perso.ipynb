{
 "cells": [
  {
   "cell_type": "markdown",
   "metadata": {},
   "source": [
    "# Hold'em"
   ]
  },
  {
   "cell_type": "markdown",
   "metadata": {},
   "source": [
    "Je commence toujours"
   ]
  },
  {
   "cell_type": "markdown",
   "metadata": {},
   "source": [
    "## 1ere idée : Faire la même chose que la soeur"
   ]
  },
  {
   "cell_type": "code",
   "execution_count": 10,
   "metadata": {},
   "outputs": [],
   "source": [
    "def jeuSoeur(jeu, listeCoups = ''):\n",
    "    # Cas de base\n",
    "    if len(jeu) <= 1:\n",
    "        return listeCoups\n",
    "    # Appel recursif\n",
    "    else:\n",
    "        # Je joue\n",
    "        if jeu[0] >= jeu[-1]:\n",
    "            jeu.pop(0)\n",
    "            listeCoups = listeCoups + 'G'\n",
    "        else:\n",
    "            jeu.pop()\n",
    "            listeCoups = listeCoups + 'D'\n",
    "        # Ma soeur joue\n",
    "        if jeu[0] >= jeu[-1]:\n",
    "            jeu.pop(0)\n",
    "        else:\n",
    "            jeu.pop()\n",
    "        return jeuSoeur(jeu, listeCoups)"
   ]
  },
  {
   "cell_type": "code",
   "execution_count": 13,
   "metadata": {},
   "outputs": [
    {
     "name": "stdout",
     "output_type": "stream",
     "text": [
      "[12, 7, 13, 12, 12, 3, 7, 4]\n"
     ]
    },
    {
     "data": {
      "text/plain": [
       "'GGGD'"
      ]
     },
     "execution_count": 13,
     "metadata": {},
     "output_type": "execute_result"
    }
   ],
   "source": [
    "import random\n",
    "jeu = [random.randint(2,14) for i in range(8)]\n",
    "print(jeu)\n",
    "jeuSoeur(jeu)"
   ]
  },
  {
   "cell_type": "markdown",
   "metadata": {},
   "source": [
    "L'algo n'est pas optimal.\n",
    "\n",
    "**Exemple** : |6|14|4|3|"
   ]
  },
  {
   "cell_type": "markdown",
   "metadata": {},
   "source": [
    "## 2eme idée : Minimiser le gain de l'adversaire"
   ]
  },
  {
   "cell_type": "code",
   "execution_count": 19,
   "metadata": {},
   "outputs": [],
   "source": [
    "def jeuMiniSoeur(jeu, listeCoups = ''):\n",
    "    # Cas de base\n",
    "    if len(jeu) <= 1:\n",
    "        return listeCoups\n",
    "    # Appel recursif\n",
    "    else:\n",
    "        # Je joue\n",
    "        if max(jeu[0], jeu[-2]) > max(jeu[1], jeu[-1]):\n",
    "            jeu.pop(-1)\n",
    "            listeCoups = listeCoups + 'D'\n",
    "        else:\n",
    "            jeu.pop()\n",
    "            listeCoups = listeCoups + 'G'\n",
    "        # Ma soeur joue\n",
    "        if jeu[0] >= jeu[-1]:\n",
    "            jeu.pop(0)\n",
    "        else:\n",
    "            jeu.pop()\n",
    "        return jeuMiniSoeur(jeu, listeCoups)"
   ]
  },
  {
   "cell_type": "code",
   "execution_count": 20,
   "metadata": {},
   "outputs": [
    {
     "name": "stdout",
     "output_type": "stream",
     "text": [
      "[2, 11, 7, 7, 14, 13, 5, 4]\n"
     ]
    },
    {
     "data": {
      "text/plain": [
       "'GDGG'"
      ]
     },
     "execution_count": 20,
     "metadata": {},
     "output_type": "execute_result"
    }
   ],
   "source": [
    "import random\n",
    "jeu = [random.randint(2,14) for i in range(8)]\n",
    "print(jeu)\n",
    "jeuMiniSoeur(jeu)"
   ]
  },
  {
   "cell_type": "markdown",
   "metadata": {},
   "source": [
    "**Contre exemple** : |2|5|8|6|"
   ]
  },
  {
   "cell_type": "markdown",
   "metadata": {},
   "source": [
    "## Exploration exhaustive\n",
    "\n",
    "**On souhaite maximiser la métrique : (MonScore - SonScore)**"
   ]
  },
  {
   "cell_type": "markdown",
   "metadata": {},
   "source": [
    "On commence par créer un programme qui liste toutes les combinaisons et les teste sur un jeu de cartes.\n",
    "On retient celle donnant le score maximal."
   ]
  },
  {
   "cell_type": "code",
   "execution_count": 51,
   "metadata": {},
   "outputs": [],
   "source": [
    "def testTout(jeu):\n",
    "    # liste les coups possibles\n",
    "    nbCoups = len(jeu) // 2\n",
    "    possibles = []\n",
    "    for i in range(2 ** nbCoups):\n",
    "        chemin = bin(i)[2:]\n",
    "        while len(chemin) < nbCoups:\n",
    "            chemin = '0' + chemin\n",
    "        chemin = chemin.replace('0', 'G')\n",
    "        chemin = chemin.replace('1', 'D')\n",
    "        possibles.append(chemin)\n",
    "    # test pour chaque possibilité les combinaisons sur le jeu et l'evalue\n",
    "    # On essaie de récupérer le meilleur\n",
    "    meilleur = (- sum(jeu), '')\n",
    "    for possible in possibles:\n",
    "        jeuTest = jeu.copy()\n",
    "        poids = 0\n",
    "        for i in range(nbCoups):\n",
    "            # Mon coups\n",
    "            if possible[i] == 'G':\n",
    "                poids += jeuTest.pop(0)\n",
    "            else:\n",
    "                poids += jeuTest.pop()\n",
    "            # Son coups\n",
    "            if jeuTest[0] >= jeuTest[-1]: # si 1ere et derniere egale, elle prend gauche\n",
    "                poids -= jeuTest.pop(0)\n",
    "            else:\n",
    "                poids -= jeuTest.pop()\n",
    "        # si il reste une carte:\n",
    "        if nbCoups * 2 != len(jeu):\n",
    "            poids += jeuTest.pop(0)\n",
    "        # On verifie le max\n",
    "        if poids > meilleur[0]:\n",
    "            meilleur = (poids, possible)\n",
    "        # print(poids, possible)\n",
    "    print('meilleure solution : ', meilleur)"
   ]
  },
  {
   "cell_type": "code",
   "execution_count": 52,
   "metadata": {},
   "outputs": [
    {
     "name": "stdout",
     "output_type": "stream",
     "text": [
      "[9, 6, 5, 11]\n",
      "meilleure solution :  (3, 'DG')\n"
     ]
    }
   ],
   "source": [
    "import random\n",
    "jeu = [random.randint(2,14) for i in range(4)]\n",
    "print(jeu)\n",
    "testTout(jeu)"
   ]
  },
  {
   "cell_type": "markdown",
   "metadata": {},
   "source": [
    "Le programme est très couteux, on va donc tenter d'explorer l'arbre des possibilités.\n",
    "On créé un algorithme de recherche en profondeur."
   ]
  },
  {
   "cell_type": "code",
   "execution_count": 61,
   "metadata": {},
   "outputs": [],
   "source": [
    "def jeuExplore(jeu, poids = 0, listeCoups = ''):\n",
    "    # Cas de base\n",
    "    if len(jeu) == 0: # si la liste est vide on arrête\n",
    "        return (poids, listeCoups)\n",
    "    elif len(jeu) == 1: # s'il reste une carte, elle est pour moi\n",
    "        return (poids + jeu[0], listeCoups)\n",
    "    # Appel recursif\n",
    "    else:\n",
    "        # A gauche\n",
    "            # Mon coups\n",
    "        jeu1, poids1, listeCoups1 = jeu.copy(), poids, listeCoups\n",
    "        poids1 = poids1 + jeu1.pop(0)\n",
    "        listeCoups1 = listeCoups1 + 'G'\n",
    "            # Son coups : si 1ere et derniere egale, elle prend gauche\n",
    "        if jeu1[0] >= jeu1[-1]:\n",
    "            poids1 = poids1 - jeu1.pop(0)\n",
    "        else:\n",
    "            poids1 = poids1 - jeu1.pop()\n",
    "            \n",
    "        gauche = jeuExplore(jeu1, poids1, listeCoups1)\n",
    "        \n",
    "        # A droite\n",
    "            # Mon coups\n",
    "        jeu2, poids2, listeCoups2 = jeu.copy(), poids, listeCoups\n",
    "        poids2 = poids2 + jeu2.pop()\n",
    "        listeCoups2 = listeCoups2 + 'D'\n",
    "            # Son coups : si 1ere et derniere egale, elle prend gauche\n",
    "        if jeu2[0] >= jeu2[-1]:\n",
    "            poids2 = poids2 - jeu2.pop(0)\n",
    "        else:\n",
    "            poids2 = poids2 - jeu2.pop()\n",
    "            \n",
    "        droite = jeuExplore(jeu2, poids2, listeCoups2)\n",
    "        \n",
    "        # On prend la plus grand poids\n",
    "        if gauche[0] >= droite[0]:\n",
    "            return gauche\n",
    "        else:\n",
    "            return droite"
   ]
  },
  {
   "cell_type": "code",
   "execution_count": 63,
   "metadata": {},
   "outputs": [
    {
     "name": "stdout",
     "output_type": "stream",
     "text": [
      "[9, 4, 7, 13, 13, 12, 12, 11, 12, 7, 8, 11, 11, 13, 5, 13, 9, 7, 10, 8]\n",
      "meilleure solution :  (11, 'GDGDGGGGGG')\n",
      "(11, 'GDGDGGGGGG')\n"
     ]
    }
   ],
   "source": [
    "import random\n",
    "jeu = [random.randint(2,14) for i in range(20)]\n",
    "print(jeu)\n",
    "testTout(jeu)\n",
    "print(jeuExplore(jeu))"
   ]
  },
  {
   "cell_type": "code",
   "execution_count": null,
   "metadata": {},
   "outputs": [],
   "source": []
  }
 ],
 "metadata": {
  "kernelspec": {
   "display_name": "Python 3",
   "language": "python",
   "name": "python3"
  },
  "language_info": {
   "codemirror_mode": {
    "name": "ipython",
    "version": 3
   },
   "file_extension": ".py",
   "mimetype": "text/x-python",
   "name": "python",
   "nbconvert_exporter": "python",
   "pygments_lexer": "ipython3",
   "version": "3.6.8"
  }
 },
 "nbformat": 4,
 "nbformat_minor": 4
}
