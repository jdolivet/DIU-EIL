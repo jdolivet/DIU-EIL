{
 "cells": [
  {
   "cell_type": "markdown",
   "metadata": {},
   "source": [
    "# QCM"
   ]
  },
  {
   "cell_type": "markdown",
   "metadata": {},
   "source": [
    "Voici un programme en Python, dépendant de variables entières a et b qui n’ont pas été initialisées :"
   ]
  },
  {
   "cell_type": "markdown",
   "metadata": {},
   "source": [
    "```python\n",
    "i = 0\n",
    "j = 1000\n",
    "a = ...\n",
    "b = ...\n",
    "while j - i > 0:\n",
    "    i = i + 2 * a\n",
    "    j = j + 3 * b\n",
    "    print(i, j)\n",
    "```"
   ]
  },
  {
   "cell_type": "markdown",
   "metadata": {},
   "source": [
    "Ce programme se termine si et seulement si ...\n",
    "- $b < \\dfrac{2}{3} a$\n",
    "\n",
    "- $a < \\dfrac{2}{3} b$\n",
    "\n",
    "- $b < \\dfrac{3}{2} a$\n",
    "\n",
    "- $a < \\dfrac{3}{2} b$"
   ]
  },
  {
   "cell_type": "markdown",
   "metadata": {},
   "source": [
    "Bonne réponse :\n",
    "$$b < \\dfrac{2}{3} a$$"
   ]
  },
  {
   "cell_type": "code",
   "execution_count": null,
   "metadata": {},
   "outputs": [],
   "source": [
    "i = 0\n",
    "j = 1000\n",
    "a = 10\n",
    "b = 3\n",
    "while j - i > 0:\n",
    "    i = i + 2 * a\n",
    "    j = j + 3 * b\n",
    "    print(i, j)"
   ]
  },
  {
   "cell_type": "markdown",
   "metadata": {},
   "source": [
    "Analyse :\n",
    "\n",
    "On illustre la notion de terminaison d'une boucle non-bornée.\n",
    "\n",
    "\n",
    "Le variant de boucle est la quantité (j - i).\n",
    "\n",
    "C'est une quantité entière, initialement positive, qui doit devenir négative ou nulle au bout d'un certain rang.\n",
    "\n",
    "Soit \n",
    "- (j - i)' la valeur du variant en sorti de boucle,\n",
    "- i' la valeur de i en sorti de boucle,\n",
    "- j' la valeur de j en sorti de boucle,\n",
    "\n",
    "Pour chaque algorithme (j-i) est initialisé à 100 - 0 = 100.\n",
    "\n",
    "Correction Algo 1 :\n",
    "\n",
    "$(j - i)' = j' - i' = (j - 1) - (i - 1) = j - i -1+1 = (j - i)$\n",
    "\n",
    "Donc $(j - i)' = (j - i)$ \n",
    "\n",
    "La quantité $(j-i)$ est donc constante et ne décroit donc jamais.\n",
    "\n",
    "Correction Algo 2 :\n",
    "\n",
    "$(j - i)' = j' - i' = (j + 4) - (i - 5) = j - i +4 - 5 = (j - i) - 1$\n",
    "\n",
    "Donc $(j - i)' < (j - i)$ \n",
    "\n",
    "La quantité $(j-i)$ est donc strictement décroissante et donc devient négative ou nulle au bout d'un certain temps.\n",
    "\n",
    "Correction Algo 3 :\n",
    "\n",
    "$(j - i)' = j' - i' = (j + 1) - (i +1) = j - i + 1 - 1 = (j - i)$\n",
    "\n",
    "Donc $(j - i)' = (j - i)$ \n",
    "\n",
    "La quantité $(j-i)$ est donc constante et ne décroit donc jamais.\n",
    "\n",
    "Correction Algo 4 :\n",
    "\n",
    "$(j - i)' = j' - i' = (j + 1) - (i - 1) = j - i +1+1 = (j - i) + 2$\n",
    "\n",
    "Donc $(j - i)' < (j - i)$ \n",
    "\n",
    "La quantité $(j-i)$ est donc strictement décroissante et donc devient négative ou nulle au bout d'un certain temps."
   ]
  },
  {
   "cell_type": "code",
   "execution_count": null,
   "metadata": {},
   "outputs": [],
   "source": []
  }
 ],
 "metadata": {
  "kernelspec": {
   "display_name": "Python 3",
   "language": "python",
   "name": "python3"
  },
  "language_info": {
   "codemirror_mode": {
    "name": "ipython",
    "version": 3
   },
   "file_extension": ".py",
   "mimetype": "text/x-python",
   "name": "python",
   "nbconvert_exporter": "python",
   "pygments_lexer": "ipython3",
   "version": "3.6.8"
  }
 },
 "nbformat": 4,
 "nbformat_minor": 4
}
