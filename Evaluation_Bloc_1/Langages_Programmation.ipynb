{
 "cells": [
  {
   "cell_type": "markdown",
   "metadata": {},
   "source": [
    "# <center>Différents langages</center>\n",
    "\n",
    "Il existe de très nombreux langages de programmation. \n",
    "\n",
    "Ils se distinguent de différentes manières."
   ]
  },
  {
   "cell_type": "markdown",
   "metadata": {},
   "source": [
    "## Niveau"
   ]
  },
  {
   "cell_type": "markdown",
   "metadata": {},
   "source": [
    "| Particularités|     Niveau      |    Exemple     |\n",
    "| :------------: | :-------------: | :-------------: |\n",
    "| Plus simple et plus éloigné du fonctionnement de la machine       |       Haut      |  Python, Java  |\n",
    "|               |                 |                |\n",
    "|               |                 |   C            |\n",
    "|       Plus complexe et plus proche du fonctionnement de la machine        |        Bas         |   Assembleur   |\n",
    "|               |              |   Binaire      |\n"
   ]
  },
  {
   "cell_type": "markdown",
   "metadata": {},
   "source": [
    "## Paradigme\n",
    "Parmi les langages de hauts niveaux, ils se distinguent de plusieurs manières\n",
    "- les objectifs sont différents (pour le calcul numérique, pour gérer et/ou interoger des bases de données ...)\n",
    "- les types des données manipulées sont différents "
   ]
  },
  {
   "cell_type": "markdown",
   "metadata": {},
   "source": [
    "**Liens**\n",
    "- [Schéma](http://rigaux.org/language-study/diagram.png)\n",
    "- [rosettacode.org](http://rosettacode.org/wiki/Factorial)"
   ]
  },
  {
   "cell_type": "markdown",
   "metadata": {},
   "source": [
    "# Points communs : \n",
    "La plupart de ces langages de programmation ont même \"puissance\" de calcul.\n",
    "\n",
    "Pour Python cette propriété est assuré par les\n",
    "- déclaration de variable\n",
    "- affectation\n",
    "- séquence\n",
    "- tests\n",
    "- boucles"
   ]
  },
  {
   "cell_type": "markdown",
   "metadata": {},
   "source": [
    "# Particularités de Python :\n",
    "\n"
   ]
  },
  {
   "cell_type": "markdown",
   "metadata": {},
   "source": [
    "Voici un [programme](http://pythontutor.com/c.html#code=int%20factoriel%28int%20n%29%20%7B%0A%20%20%20%20int%20resultat%20%3D%201%3B%0A%20%20%20%20for%20%28int%20loop%20%3D%201%3B%20loop%20%3C%3D%20n%3B%20loop%2B%2B%29%0A%20%20%20%20%20%20%20%20resultat%20%3D%20resultat%20*%20loop%3B%0A%20%20%20%20return%20resultat%3B%0A%7D%0A%0A%0Aint%20main%28%29%20%7B%0A%20%20int%20n%3B%0A%20%20n%20%3D%20factoriel%284%29%3B%0A%20%20return%200%3B%0A%7D&mode=edit&origin=opt-frontend.js&py=c&rawInputLstJSON=%5B%5D) écrit en C :"
   ]
  },
  {
   "cell_type": "markdown",
   "metadata": {},
   "source": [
    "```C\n",
    "int factoriel(int n) {\n",
    "    int resultat = 1;\n",
    "    for (int loop = 1; loop <= n; loop++)\n",
    "        resultat = resultat * loop;\n",
    "    return resultat;\n",
    "}\n",
    "```\n",
    "\n",
    "Alors que, en Python, nous aurions :"
   ]
  },
  {
   "cell_type": "code",
   "execution_count": 1,
   "metadata": {},
   "outputs": [],
   "source": [
    "def factoriel(n):\n",
    "    resultat = 1\n",
    "    for loop in range(1, n + 1):\n",
    "        resultat = resultat * loop\n",
    "    return resultat"
   ]
  },
  {
   "cell_type": "code",
   "execution_count": 2,
   "metadata": {},
   "outputs": [
    {
     "data": {
      "text/plain": [
       "24"
      ]
     },
     "execution_count": 2,
     "metadata": {},
     "output_type": "execute_result"
    }
   ],
   "source": [
    "factoriel(4)"
   ]
  },
  {
   "cell_type": "markdown",
   "metadata": {},
   "source": [
    "## Syntaxe\n",
    "\n",
    "Comme vous avez pu l'observer, la syntaxe est fondamentale en Python :\n",
    "- Le **retour ligne** signale la fin d'une instruction\n",
    "- L'utilisation des deux points (```:```) et de l'**indentation** permet de délimiter les blocs"
   ]
  },
  {
   "cell_type": "markdown",
   "metadata": {},
   "source": [
    "Python étant assez permissif, il est nécessaire d'être discipliné pour la mise en forme des programmes : les IDE nous aident beaucoup pour cela."
   ]
  },
  {
   "cell_type": "code",
   "execution_count": 3,
   "metadata": {},
   "outputs": [
    {
     "data": {
      "text/plain": [
       "24"
      ]
     },
     "execution_count": 3,
     "metadata": {},
     "output_type": "execute_result"
    }
   ],
   "source": [
    "# code accepté mais pas du tout recommandé\n",
    "def factoriel(n):\n",
    "    resultat = 1\n",
    "    for loop in range(1, n + 1):\n",
    "      resultat = resultat * loop\n",
    "    return resultat\n",
    "\n",
    "factoriel(4)"
   ]
  },
  {
   "cell_type": "code",
   "execution_count": 4,
   "metadata": {},
   "outputs": [
    {
     "ename": "IndentationError",
     "evalue": "unexpected indent (<ipython-input-4-e27ad68245ad>, line 4)",
     "output_type": "error",
     "traceback": [
      "\u001b[0;36m  File \u001b[0;32m\"<ipython-input-4-e27ad68245ad>\"\u001b[0;36m, line \u001b[0;32m4\u001b[0m\n\u001b[0;31m    for loop in range(1, n + 1):\u001b[0m\n\u001b[0m    ^\u001b[0m\n\u001b[0;31mIndentationError\u001b[0m\u001b[0;31m:\u001b[0m unexpected indent\n"
     ]
    }
   ],
   "source": [
    "# ceci n'est pas correct et est rejeté par Python\n",
    "def factoriel(n):\n",
    "    resultat = 1\n",
    "     for loop in range(1, n + 1):\n",
    "        resultat = resultat * loop\n",
    "    return resultat\n",
    "\n",
    "factoriel(4)"
   ]
  },
  {
   "cell_type": "code",
   "execution_count": 5,
   "metadata": {},
   "outputs": [
    {
     "data": {
      "text/plain": [
       "1"
      ]
     },
     "execution_count": 5,
     "metadata": {},
     "output_type": "execute_result"
    }
   ],
   "source": [
    "# Ce n'est probablement pas ce qui est attendu\n",
    "def factoriel(n):\n",
    "    resultat = 1\n",
    "    for loop in range(1, n + 1):\n",
    "        resultat = resultat * loop\n",
    "        return resultat\n",
    "    \n",
    "factoriel(4)"
   ]
  },
  {
   "cell_type": "markdown",
   "metadata": {},
   "source": [
    "## Typage\n",
    "Python est un langage dont le typage est **dynamique** : il n'est pas nécessaire de déclarer le type des variables.\n",
    "\n",
    "Par ailleurs, il est capable d'inférer le type des objets créés : on parle de typage **fort**."
   ]
  },
  {
   "cell_type": "markdown",
   "metadata": {},
   "source": [
    "Tous servent à manipuler des données.\n",
    "\n",
    "- Ce choix de typage peut être piegeux et \"masque\" la comprehension de l'execution machine : l'execution du programme est dépendante du type des variables et il est important de le prendre en compte (en Python, ce choix n'est pas, consciemment, fait par le concepteur du programme).\n",
    "\n",
    "- Le contrôle à priori, de la validité d'un programme est moins évidente"
   ]
  },
  {
   "cell_type": "markdown",
   "metadata": {},
   "source": [
    "Certains programmes peuvent donner des résultats inattendus (cela peut être non souhaité ou au contraire permettre de créer un programme plus général)."
   ]
  },
  {
   "cell_type": "markdown",
   "metadata": {},
   "source": [
    "### Paramètres"
   ]
  },
  {
   "cell_type": "code",
   "execution_count": 1,
   "metadata": {},
   "outputs": [],
   "source": [
    "def mystere1(n):\n",
    "    resultat = 0\n",
    "    while n >= 0:\n",
    "        resultat = resultat + n\n",
    "        n = n - 1\n",
    "    return resultat"
   ]
  },
  {
   "cell_type": "markdown",
   "metadata": {},
   "source": [
    "Essayer d'affecter des valeurs de différents types (```int```, ```float```, ```bool```, ```list```, ```str```, ```tuple```, ...) à la variable ```var``` correspondant au paramètre de la fonction ```mystere1()```."
   ]
  },
  {
   "cell_type": "code",
   "execution_count": 2,
   "metadata": {},
   "outputs": [
    {
     "name": "stdout",
     "output_type": "stream",
     "text": [
      "entrée : 5\n",
      "<class 'int'>\n",
      "sortie : 15\n",
      "<class 'int'>\n"
     ]
    }
   ],
   "source": [
    "var = 5\n",
    "print('entrée :', var)\n",
    "print(type(var))\n",
    "retour = mystere1(var)\n",
    "print('sortie :', retour)\n",
    "print(type(retour))"
   ]
  },
  {
   "cell_type": "markdown",
   "metadata": {},
   "source": [
    "Nous pouvons observer que la fonction accepte des paramètres de différents types.\n",
    "\n",
    "- Etait-ce un choix? \n",
    "\n",
    "- Est-ce un problème?"
   ]
  },
  {
   "cell_type": "markdown",
   "metadata": {},
   "source": [
    "**Exercice :**"
   ]
  },
  {
   "cell_type": "code",
   "execution_count": 8,
   "metadata": {},
   "outputs": [],
   "source": [
    "def mystere2(argument):\n",
    "    resultat = argument[0]\n",
    "    for elt in argument[1:]:\n",
    "        resultat = resultat + elt\n",
    "    return resultat"
   ]
  },
  {
   "cell_type": "markdown",
   "metadata": {},
   "source": [
    "Testez la fonction ```mystere2()``` pour différents paramètres. "
   ]
  },
  {
   "cell_type": "code",
   "execution_count": 9,
   "metadata": {},
   "outputs": [],
   "source": [
    "# A faire"
   ]
  },
  {
   "cell_type": "markdown",
   "metadata": {},
   "source": [
    "Que fait cette fonction?"
   ]
  },
  {
   "cell_type": "markdown",
   "metadata": {},
   "source": [
    "**Exercice :**"
   ]
  },
  {
   "cell_type": "code",
   "execution_count": 10,
   "metadata": {},
   "outputs": [],
   "source": [
    "def mystere3(argument):\n",
    "    resultat = argument[:0]\n",
    "    for i in range(len(argument)):\n",
    "        resultat = argument[i:i+1] + resultat\n",
    "    return resultat"
   ]
  },
  {
   "cell_type": "markdown",
   "metadata": {},
   "source": [
    "Reprenez la fonction ```mystere3()``` et testez la pour différents paramètres. "
   ]
  },
  {
   "cell_type": "code",
   "execution_count": 11,
   "metadata": {},
   "outputs": [],
   "source": [
    "# A faire"
   ]
  },
  {
   "cell_type": "markdown",
   "metadata": {},
   "source": [
    "Que fait cette fonction?"
   ]
  },
  {
   "cell_type": "markdown",
   "metadata": {},
   "source": [
    "### Retour de fonction"
   ]
  },
  {
   "cell_type": "code",
   "execution_count": 12,
   "metadata": {},
   "outputs": [],
   "source": [
    "def tri(t):\n",
    "    for i in range(len(t) - 1):\n",
    "        for j in range(i + 1, len(t)):\n",
    "            if t[j] < t[i]:\n",
    "                t[i], t[j] = t[j], t[i]"
   ]
  },
  {
   "cell_type": "code",
   "execution_count": 13,
   "metadata": {},
   "outputs": [
    {
     "name": "stdout",
     "output_type": "stream",
     "text": [
      "None\n"
     ]
    }
   ],
   "source": [
    "T = [5, 8, 6, 9, 2, 3, 6, 4]\n",
    "liste = tri(T)\n",
    "print(liste)"
   ]
  },
  {
   "cell_type": "markdown",
   "metadata": {},
   "source": [
    "Une fonction sert, généralement, à retourner une valeur. \n",
    "\n",
    "Il faut retenir que la fonction retourne toujours une valeur. Par défaut, cette valeur est : ```None```"
   ]
  },
  {
   "cell_type": "markdown",
   "metadata": {},
   "source": [
    "**Conclusion**\n",
    "\n",
    "Le typage dynamique et la **surcharge** de certains opérateurs peuvent fournir des résultats imprévus.\n",
    "\n",
    "Python effectue certaines **conversions implicites** des types qui ne sont pas toujours naturels ou simples à comprendre.\n",
    "\n",
    "**Exemple :**"
   ]
  },
  {
   "cell_type": "code",
   "execution_count": 7,
   "metadata": {},
   "outputs": [
    {
     "name": "stdout",
     "output_type": "stream",
     "text": [
      "2.2\n",
      "\n",
      "True\n",
      "\n",
      "True\n",
      "Alan\n",
      "True\n",
      "True\n",
      "Alan\n",
      "[]\n"
     ]
    }
   ],
   "source": [
    "print(1 + 1.2)\n",
    "print(True and '')\n",
    "print(True or '')\n",
    "print('' and True)\n",
    "print('' or True)\n",
    "print(True and 'Alan')\n",
    "print(True or 'Alan')\n",
    "print('Alan' and True)\n",
    "print('Alan' or True)\n",
    "print(True and [])"
   ]
  },
  {
   "cell_type": "markdown",
   "metadata": {},
   "source": [
    "Cela n'est pas nécessairement un problème mais il est important de la prendre en compte : des résultats inattendus et non détectés peuvent se produire lors d'appels de fonction."
   ]
  },
  {
   "cell_type": "markdown",
   "metadata": {},
   "source": [
    "### Spécification\n",
    "Importance de la spécification et de la docstring (surtout en Python pour ce qui est du type)"
   ]
  },
  {
   "cell_type": "code",
   "execution_count": null,
   "metadata": {},
   "outputs": [],
   "source": [
    "def factoriel(n):\n",
    "    \"\"\" n est un entier.\n",
    "    Retourne l'entier n!\"\"\"\n",
    "    resultat = 1\n",
    "    for i in range(1, n + 1):\n",
    "        resultat *= i\n",
    "    return resultat"
   ]
  },
  {
   "cell_type": "markdown",
   "metadata": {},
   "source": [
    "**Exercice :**\n",
    "\n",
    "Reprenez la fonction ```mystere2()``` et donnez en la spécification."
   ]
  },
  {
   "cell_type": "markdown",
   "metadata": {},
   "source": [
    "### Remarque : ```assert```\n",
    "Les ```assert``` peuvent aider à verifier le type."
   ]
  },
  {
   "cell_type": "code",
   "execution_count": 14,
   "metadata": {},
   "outputs": [],
   "source": [
    "def factoriel(n):\n",
    "    \"\"\" n est un entier.\n",
    "    Retourne n!\"\"\"\n",
    "    assert type(n) is int, \"Le paramètre est un entier\"\n",
    "    result = 1\n",
    "    for i in range(1, n + 1):\n",
    "        result *= i\n",
    "    return result"
   ]
  },
  {
   "cell_type": "code",
   "execution_count": 15,
   "metadata": {},
   "outputs": [
    {
     "data": {
      "text/plain": [
       "24"
      ]
     },
     "execution_count": 15,
     "metadata": {},
     "output_type": "execute_result"
    }
   ],
   "source": [
    "# modifier le type de la variable\n",
    "factoriel(4)"
   ]
  },
  {
   "cell_type": "markdown",
   "metadata": {},
   "source": [
    "### Remarque : Type hints\n",
    "Depuis la version 3.5, python supporte un mécanisme **optionnel** qui vous permet d'annoter les arguments des fonctions avec des informations de typage, ce mécanisme est connu sous le nom de *type hints*.\n",
    "\n",
    "Voici un exemple d'utilisation :"
   ]
  },
  {
   "cell_type": "code",
   "execution_count": null,
   "metadata": {},
   "outputs": [],
   "source": [
    "def factoriel(n: int) -> int:\n",
    "    \"\"\"Retourne n!\"\"\"\n",
    "    resultat = 1\n",
    "    for i in range(1, n + 1):\n",
    "        resultat *= i\n",
    "    return resultat"
   ]
  },
  {
   "cell_type": "code",
   "execution_count": null,
   "metadata": {},
   "outputs": [],
   "source": [
    "factoriel(4)"
   ]
  },
  {
   "cell_type": "markdown",
   "metadata": {},
   "source": [
    "Son intérêt est essentiellement de pouvoir documenter plus finement le code.\n",
    "\n",
    "Certains IDE peuvent s'en servir pour permettre de vérifier le code et détecter des erreurs dans le passage d'arguments\n",
    "\n",
    "Attention toutefois, cela reste optionel et est ignoré lors de l'interprétation du code."
   ]
  },
  {
   "cell_type": "code",
   "execution_count": null,
   "metadata": {},
   "outputs": [],
   "source": [
    "def factoriel(n: str) -> str:\n",
    "    resultat = 1\n",
    "    for i in range(1, n + 1):\n",
    "        resultat *= i\n",
    "    return resultat"
   ]
  },
  {
   "cell_type": "code",
   "execution_count": null,
   "metadata": {},
   "outputs": [],
   "source": [
    "# Le typage n'est pas pris en compte à l'exécution\n",
    "factoriel(4)"
   ]
  },
  {
   "cell_type": "markdown",
   "metadata": {},
   "source": [
    "On peut appeler cette fonction avec un ```int``` alors qu'elle est déclarée pour un ```str```."
   ]
  },
  {
   "cell_type": "markdown",
   "metadata": {},
   "source": [
    "---\n",
    "Sources \n",
    "- [Python 3 - des fondamentaux aux concepts avancés du langage (FUN)](https://www.fun-mooc.fr/courses/inria/41001S03/session03/about)\n",
    "- [Documents accompagnement NSI](https://eduscol.education.fr/cid144156/nsi-bac-2021.html)"
   ]
  },
  {
   "cell_type": "markdown",
   "metadata": {},
   "source": [
    "---\n",
    "Ressource éducative libre distribuée sous [Licence Creative Commons Attribution - Pas d’Utilisation Commerciale - Partage dans les Mêmes Conditions 4.0 International](http://creativecommons.org/licenses/by-nc-sa/4.0/) \n",
    "\n",
    "<img src=\"https://i.creativecommons.org/l/by-nc-sa/4.0/88x31.png\"\n",
    "     alt=\"Licence Creative Commons\" align=\"right\">"
   ]
  }
 ],
 "metadata": {
  "kernelspec": {
   "display_name": "Python 3",
   "language": "python",
   "name": "python3"
  },
  "language_info": {
   "codemirror_mode": {
    "name": "ipython",
    "version": 3
   },
   "file_extension": ".py",
   "mimetype": "text/x-python",
   "name": "python",
   "nbconvert_exporter": "python",
   "pygments_lexer": "ipython3",
   "version": "3.6.8"
  }
 },
 "nbformat": 4,
 "nbformat_minor": 4
}
